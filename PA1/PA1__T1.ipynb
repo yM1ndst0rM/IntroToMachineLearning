{
 "cells": [
  {
   "cell_type": "markdown",
   "source": [
    "Task 1: Python Basics\n",
    "\n",
    "Subtask 1: Preliminaries"
   ],
   "metadata": {
    "collapsed": false,
    "pycharm": {
     "name": "#%% md\n"
    }
   }
  },
  {
   "cell_type": "code",
   "execution_count": 1,
   "metadata": {
    "collapsed": true
   },
   "outputs": [
    {
     "name": "stdout",
     "output_type": "stream",
     "text": [
      "Python version: 3.9.7 (default, Sep 16 2021, 16:59:28) [MSC v.1916 64 bit (AMD64)]\n",
      "numpy version: 1.20.3\n",
      "pandas version: 1.3.3\n",
      "scikit-learn version: 0.24.2\n"
     ]
    }
   ],
   "source": [
    "import sys\n",
    "import numpy as np\n",
    "import pandas\n",
    "import sklearn as skl\n",
    "\n",
    "print(f'Python version: {sys.version}')\n",
    "print(f'numpy version: {np.__version__}')\n",
    "print(f'pandas version: {pandas.__version__}')\n",
    "print(f'scikit-learn version: {skl.__version__}')\n"
   ]
  },
  {
   "cell_type": "markdown",
   "source": [
    "Subtask 2:  Methods, Python File IO, Exception Handling,\n",
    "Testing"
   ],
   "metadata": {
    "collapsed": false
   }
  },
  {
   "cell_type": "code",
   "execution_count": 1,
   "outputs": [],
   "source": [],
   "metadata": {
    "collapsed": false,
    "pycharm": {
     "name": "#%%\n"
    }
   }
  }
 ],
 "metadata": {
  "kernelspec": {
   "name": "python3",
   "language": "python",
   "display_name": "Python 3 (ipykernel)"
  },
  "language_info": {
   "codemirror_mode": {
    "name": "ipython",
    "version": 3
   },
   "file_extension": ".py",
   "mimetype": "text/x-python",
   "name": "python",
   "nbconvert_exporter": "python",
   "pygments_lexer": "ipython3",
   "version": "3.9.7"
  }
 },
 "nbformat": 4,
 "nbformat_minor": 1
}